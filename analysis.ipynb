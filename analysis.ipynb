{
 "cells": [
  {
   "cell_type": "code",
   "execution_count": 1,
   "metadata": {
    "collapsed": true
   },
   "outputs": [],
   "source": [
    "from duckmodel import DuckModel\n",
    "import matplotlib.pyplot as plt\n",
    "from tqdm import tqdm\n",
    "import numpy as np"
   ]
  },
  {
   "cell_type": "code",
   "execution_count": 3,
   "metadata": {
    "collapsed": false
   },
   "outputs": [
    {
     "name": "stderr",
     "output_type": "stream",
     "text": [
      "100%|████████████████████████████████████████| 200/200 [00:02<00:00, 72.73it/s]\n"
     ]
    }
   ],
   "source": [
    "N_agents = 20\n",
    "m=DuckModel(20,40,40)\n",
    "N_steps = 200\n",
    "for _ in tqdm(range(N_steps)):\n",
    "    m.step()"
   ]
  },
  {
   "cell_type": "code",
   "execution_count": 4,
   "metadata": {
    "collapsed": true
   },
   "outputs": [],
   "source": [
    "std = m.datacollector.get_model_vars_dataframe()"
   ]
  },
  {
   "cell_type": "code",
   "execution_count": 5,
   "metadata": {
    "collapsed": false
   },
   "outputs": [
    {
     "data": {
      "image/png": "[encoded data removed]",
      "text/plain": [
       "<matplotlib.figure.Figure at 0x1fac4f73358>"
      ]
     },
     "metadata": {},
     "output_type": "display_data"
    }
   ],
   "source": [
    "plt.plot(std)\n",
    "plt.xlabel(\"time\")\n",
    "plt.ylabel(\"standard deviation\")\n",
    "plt.show()"
   ]
  },
  {
   "cell_type": "code",
   "execution_count": 22,
   "metadata": {
    "collapsed": false
   },
   "outputs": [
    {
     "name": "stdout",
     "output_type": "stream",
     "text": [
      "(4000, 1)\n"
     ]
    },
    {
     "data": {
      "image/png": "[encoded data removed]",
      "text/plain": [
       "<matplotlib.figure.Figure at 0x1fac53b9e48>"
      ]
     },
     "metadata": {},
     "output_type": "display_data"
    }
   ],
   "source": [
    "aggression = m.datacollector.get_agent_vars_dataframe()\n",
    "\n",
    "array = aggression.values\n",
    "\n",
    "array = array[::2]\n",
    "print(array.shape)\n",
    "array = array.reshape((N_steps,N_agents))\n",
    "array[46,:]\n",
    "\n",
    "\n",
    "stds = []\n",
    "for a in array:\n",
    "    stds.append(np.std(a))\n",
    "\n",
    "plt.plot(range(len(stds)), stds)\n",
    "plt.show()"
   ]
  },
  {
   "cell_type": "code",
   "execution_count": 1,
   "metadata": {
    "collapsed": false
   },
   "outputs": [
    {
     "ename": "NameError",
     "evalue": "name 'array' is not defined",
     "output_type": "error",
     "traceback": [
      "\u001b[1;31m---------------------------------------------------------------------------\u001b[0m",
      "\u001b[1;31mNameError\u001b[0m                                 Traceback (most recent call last)",
      "\u001b[1;32m<ipython-input-1-cc46c3317cc2>\u001b[0m in \u001b[0;36m<module>\u001b[1;34m()\u001b[0m\n\u001b[1;32m----> 1\u001b[1;33m \u001b[0ma\u001b[0m\u001b[1;33m=\u001b[0m\u001b[0marray\u001b[0m\u001b[1;33m.\u001b[0m\u001b[0mreshape\u001b[0m\u001b[1;33m(\u001b[0m\u001b[1;36m4000\u001b[0m\u001b[1;33m,\u001b[0m\u001b[1;36m1\u001b[0m\u001b[1;33m)\u001b[0m\u001b[1;33m\u001b[0m\u001b[0m\n\u001b[0m\u001b[0;32m      2\u001b[0m \u001b[0ma\u001b[0m\u001b[1;33m.\u001b[0m\u001b[0mreshape\u001b[0m\u001b[1;33m(\u001b[0m\u001b[1;36m200\u001b[0m\u001b[1;33m)\u001b[0m\u001b[1;33m\u001b[0m\u001b[0m\n",
      "\u001b[1;31mNameError\u001b[0m: name 'array' is not defined"
     ]
    }
   ],
   "source": [
    "a=array.reshape(4000,1)\n",
    "a.reshape(200)"
   ]
  },
  {
   "cell_type": "code",
   "execution_count": 1,
   "metadata": {
    "collapsed": false
   },
   "outputs": [
    {
     "name": "stdout",
     "output_type": "stream",
     "text": [
      "Parameter S1 S1_conf ST ST_conf\n",
      "x1 0.307975 0.059037 0.560137 0.090561\n",
      "x2 0.447767 0.053887 0.438722 0.041791\n",
      "x3 -0.004255 0.054949 0.242845 0.024564\n",
      "\n",
      "Parameter_1 Parameter_2 S2 S2_conf\n",
      "x1 x2 0.012205 0.077931\n",
      "x1 x3 0.251526 0.105210\n",
      "x2 x3 -0.009954 0.066815\n",
      "[ 0.30797549  0.44776661 -0.00425452]\n"
     ]
    }
   ],
   "source": [
    "from SALib.sample import saltelli\n",
    "from SALib.analyze import sobol\n",
    "from SALib.test_functions import Ishigami\n",
    "import numpy as np\n",
    "\n",
    "# Define the model inputs\n",
    "problem = {\n",
    "    'num_vars': 3,\n",
    "    'names': ['x1', 'x2', 'x3'],\n",
    "    'bounds': [[-3.14159265359, 3.14159265359],\n",
    "               [-3.14159265359, 3.14159265359],\n",
    "               [-3.14159265359, 3.14159265359]]\n",
    "}\n",
    "\n",
    "# Generate samples\n",
    "param_values = saltelli.sample(problem, 1000)\n",
    "\n",
    "# Run model (example)\n",
    "Y = Ishigami.evaluate(param_values)\n",
    "\n",
    "# Perform analysis\n",
    "Si = sobol.analyze(problem, Y, print_to_console=True)\n",
    "\n",
    "# Print the first-order sensitivity indices\n",
    "print(Si['S1'])"
   ]
  },
  {
   "cell_type": "code",
   "execution_count": null,
   "metadata": {
    "collapsed": false
   },
   "outputs": [],
   "source": []
  }
 ],
 "metadata": {
  "anaconda-cloud": {},
  "kernelspec": {
   "display_name": "Python [ml1labs]",
   "language": "python",
   "name": "Python [ml1labs]"
  },
  "language_info": {
   "codemirror_mode": {
    "name": "ipython",
    "version": 3
   },
   "file_extension": ".py",
   "mimetype": "text/x-python",
   "name": "python",
   "nbconvert_exporter": "python",
   "pygments_lexer": "ipython3",
   "version": "3.6.2"
  }
 },
 "nbformat": 4,
 "nbformat_minor": 2
}
